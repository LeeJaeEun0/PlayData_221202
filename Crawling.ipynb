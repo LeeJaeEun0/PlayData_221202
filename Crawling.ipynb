{
 "cells": [
  {
   "cell_type": "markdown",
   "id": "3eaa6651",
   "metadata": {},
   "source": [
    "# 크롤링의 기본원리\n",
    "\n",
    "1. 접속해 웹페이지를 확인 - 주소 확인하기\n",
    "2. 키보드의 F12를 눌러 내가 원하는 정보의 위치를 확인한다.\n",
    "3. 파이썬 코드를 작성해 접속한 웹 페이지의 html코드를 불러온다.\n",
    "4. 불러온 데이터에서 원하는 정보를 가공한 후 추출한다.\n",
    "5. 추출한 정보를 텍스트파일, cvs나 데이터베이스 등 다양한 형태로 저장하거나 가공하고 시각화한다."
   ]
  },
  {
   "cell_type": "markdown",
   "id": "3fc85bbb",
   "metadata": {},
   "source": [
    "원하는 정보, 이미지 등을 가져오는 것 - 매크로와 비슷하다! <br>\n",
    "ex) 실시간 검색, 실시간 주식 정보, 음악실시간차트 <br>\n",
    "기본 코드를 가지고 응용하면 된다"
   ]
  },
  {
   "cell_type": "markdown",
   "id": "5b56581d",
   "metadata": {},
   "source": [
    "## 가상환경 확인\n",
    "python --version # 설치버전확인 <br>\n",
    "conda info # 설치버전 확인<br>\n",
    "conda search python # 설치 가능 버전 확인<br>\n",
    "conda create --name py3_8_5 python=3.8.5 # 가상환경 설치<br>\n",
    "conda activate py3_8_5 # 가상환경으로 변경<br>\n",
    "conda deactivate #가상환경 해제\n",
    "\n",
    "## 필요한 라이브러리\n",
    "pip install numpy\n",
    "pip install pandas\n",
    "pip install matplotlib\n",
    "pip install beautifulsoup4 # 필수\n",
    "pip install selenium # 필요!\n",
    "pip install pymysql\n",
    "pip install cryptography\n",
    "pip install openpyxl\n",
    "pip install xlrd\n",
    "\n",
    "## 주피터 노트북에 가상환경 추가\n",
    "pip install ipykernel\n",
    "python -m ipykernel install --user --name py3_8_5\n",
    "--display-name \"python3_8_5\"(py3_8_5)  \n",
    "jupyter notebook\n",
    "\n",
    "## 가상환경 삭제\n",
    "conda remove --name py3_8_5 --all"
   ]
  },
  {
   "cell_type": "markdown",
   "id": "6c1ab4f6",
   "metadata": {},
   "source": [
    "# 크롤링의 기본원리"
   ]
  },
  {
   "cell_type": "markdown",
   "id": "6037a9cc",
   "metadata": {},
   "source": [
    "패키지나 모듈 이용하기 위해 import"
   ]
  },
  {
   "cell_type": "code",
   "execution_count": null,
   "id": "1ef472d9",
   "metadata": {},
   "outputs": [],
   "source": [
    "from bs4 import BeautifulSoup"
   ]
  },
  {
   "cell_type": "code",
   "execution_count": null,
   "id": "6c991bdf",
   "metadata": {},
   "outputs": [],
   "source": [
    "html_doc = \"\"\"\n",
    "<!doctype html>\n",
    "<html>\n",
    "    <head>\n",
    "        <title>기초 크롤링</title>\n",
    "    </head>\n",
    "    <body>\n",
    "        크롤링을 해봅시다.\n",
    "    </body>\n",
    "</html>\n",
    "\"\"\""
   ]
  },
  {
   "cell_type": "code",
   "execution_count": null,
   "id": "0ab381fa",
   "metadata": {},
   "outputs": [],
   "source": [
    "html_doc = \"\"\"\n",
    "<!doctype html>\n",
    "<html>\n",
    "    <head>\n",
    "        <title>기초 크롤링</title>\n",
    "    </head>\n",
    "    <body>\n",
    "        <table border=\"1\">\n",
    "            <caption>과일가격</caption>\n",
    "            <tr>\n",
    "                <th>과일</th>\n",
    "                <th>가격</th>\n",
    "            </tr>\n",
    "            <tr>\n",
    "                <td>오렌지</td>\n",
    "                <td>100</td>\n",
    "            </tr>\n",
    "            <tr>\n",
    "                <td>사과</td>\n",
    "                <td>150</td>\n",
    "            </tr>\n",
    "        </table>\n",
    "        <table border=\"2\">\n",
    "            <caption>의류 가격</caption>\n",
    "            <tr>\n",
    "                <th>상품</th>\n",
    "                <th>가격</th>\n",
    "            </tr>\n",
    "            <tr>\n",
    "                <td>셔츠</td>\n",
    "                <td>30000</td>\n",
    "            </tr>\n",
    "            <tr>\n",
    "                <td>바지</td>\n",
    "                <td>50000</td>\n",
    "            </tr>\n",
    "        </table>\n",
    "    </body>\n",
    "</html>\n",
    "\"\"\""
   ]
  },
  {
   "cell_type": "markdown",
   "id": "f93ffafc",
   "metadata": {},
   "source": [
    "# css"
   ]
  },
  {
   "cell_type": "code",
   "execution_count": null,
   "id": "ca1eabfe",
   "metadata": {},
   "outputs": [],
   "source": [
    "p {\n",
    "    color:red;\n",
    "}\n",
    "\n",
    "# 작성후 styles 폴더 생성후 저장"
   ]
  },
  {
   "cell_type": "code",
   "execution_count": null,
   "id": "710ff7c6",
   "metadata": {},
   "outputs": [],
   "source": [
    "\n",
    "<!doctype html>\n",
    "<html>\n",
    "    <head>\n",
    "        <link href=\"styles/style.css\" rel=\"stylesheet\" type=\"text/css\">\n",
    "        <title>css</title>\n",
    "    </head>\n",
    "    <body>\n",
    "        <p>빨간색이다.</p>\n",
    "    </body>\n",
    "</html>\n"
   ]
  },
  {
   "cell_type": "markdown",
   "id": "b223279d",
   "metadata": {},
   "source": [
    "# 자바스크립트"
   ]
  },
  {
   "cell_type": "code",
   "execution_count": null,
   "id": "8876f80a",
   "metadata": {},
   "outputs": [],
   "source": [
    "html_doc=\"\"\"\n",
    "<!doctype html>\n",
    "<html>\n",
    "    <body>\n",
    "        <p>\n",
    "            스크립트 실행 전\n",
    "        </p>\n",
    "        <script>\n",
    "            alert('hello world')\n",
    "        </script>\n",
    "    </body>\n",
    "</html>\n",
    "\"\"\""
   ]
  },
  {
   "cell_type": "markdown",
   "id": "4de3ce32",
   "metadata": {},
   "source": [
    "실습 폴더 안에 script폴더 생성 후\n",
    "\n",
    "alert('hello world'); #메모장에 작성후\n",
    "script.js로 저장\n"
   ]
  },
  {
   "cell_type": "code",
   "execution_count": null,
   "id": "72081c14",
   "metadata": {},
   "outputs": [],
   "source": [
    "html_doc=\"\"\"\n",
    "<!doctype html>\n",
    "<html>\n",
    "    <body>\n",
    "        <p>\n",
    "            스크립트 실행 전\n",
    "        </p>\n",
    "        <script src=\"script/script.js\"></script>\n",
    "    </body>\n",
    "</html>\n",
    "\"\"\""
   ]
  },
  {
   "cell_type": "markdown",
   "id": "f2cb8a52",
   "metadata": {},
   "source": [
    "# Beautifulsoup 라이브러리"
   ]
  },
  {
   "cell_type": "code",
   "execution_count": 2,
   "id": "5baf5aa7",
   "metadata": {},
   "outputs": [],
   "source": [
    "from bs4  import BeautifulSoup"
   ]
  },
  {
   "cell_type": "code",
   "execution_count": 9,
   "id": "29d0db21",
   "metadata": {},
   "outputs": [
    {
     "name": "stdout",
     "output_type": "stream",
     "text": [
      "크롤링의 세계에 오신 것을 환영합니다. \n",
      "Hello, world!\n"
     ]
    }
   ],
   "source": [
    "from urllib.request import urlopen # urlib 를 불러온다\n",
    "from bs4 import BeautifulSoup\n",
    "\n",
    "url = \"https://ai-dev.tistory.com/1?category=836119\" # 웹사이트 주소를 저장\n",
    "html = urlopen(url) # urlopen 함수를 이용해 url을 오픈하고 저장\n",
    "bs_obj = BeautifulSoup(html, \"html.parser\") # 파싱을 저장, 페이지의 모든 내용을 저장\n",
    "\n",
    "# 제목 추출\n",
    "title = bs_obj.find_all(\"h1\")\n",
    "#print(title)\n",
    "#print(title[1])\n",
    "print(title[1].text)\n",
    "\n",
    "# 본문 내용 추출\n",
    "contents = bs_obj.find_all('p')\n",
    "#print(contents)\n",
    "#print(contents[1])\n",
    "print(contents[1].text)\n"
   ]
  },
  {
   "cell_type": "markdown",
   "id": "f8bd964b",
   "metadata": {},
   "source": [
    "## 연습하기"
   ]
  },
  {
   "cell_type": "code",
   "execution_count": 27,
   "id": "600b1dc9",
   "metadata": {},
   "outputs": [
    {
     "name": "stdout",
     "output_type": "stream",
     "text": [
      "커피 원두 종류 품종별 지역별 특징\n",
      "커피는 세계에서 가장 많은 나라에서 음용되는 음료입니다. 또한 세계 각국에서 커피를 제공하는 장소인 커피숍은 현대 지식인과 문학, 미술 등 다양한 분야의 예술가가 모이는 장소로서 문화적으로도 큰 역할을 했다고도 할 수 있습니다.\n"
     ]
    }
   ],
   "source": [
    "from urllib.request import urlopen # urlib 를 불러온다\n",
    "from bs4 import BeautifulSoup\n",
    "\n",
    "url = \"https://tagilog.tistory.com/522\"\n",
    "html= urlopen(url)\n",
    "bs_obj = BeautifulSoup(html, \"html.parser\")\n",
    "\n",
    "# 제목 추출\n",
    "title = bs_obj.find_all('h2') # find는 찾는 명령어\n",
    "#print(title)\n",
    "print(title[0].text)\n",
    "\n",
    "# 내용 추출\n",
    "contentss = bs_obj.find_all('p')\n",
    "#print(contentss)\n",
    "print(contentss[3].text)"
   ]
  }
 ],
 "metadata": {
  "kernelspec": {
   "display_name": "Python 3 (ipykernel)",
   "language": "python",
   "name": "python3"
  },
  "language_info": {
   "codemirror_mode": {
    "name": "ipython",
    "version": 3
   },
   "file_extension": ".py",
   "mimetype": "text/x-python",
   "name": "python",
   "nbconvert_exporter": "python",
   "pygments_lexer": "ipython3",
   "version": "3.9.13"
  }
 },
 "nbformat": 4,
 "nbformat_minor": 5
}
